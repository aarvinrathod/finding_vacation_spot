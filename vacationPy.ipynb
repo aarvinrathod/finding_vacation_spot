{
 "cells": [
  {
   "cell_type": "markdown",
   "metadata": {},
   "source": [
    "# VacationPy\n",
    "----\n",
    "\n",
    "#### Note\n",
    "* Keep an eye on your API usage. Use https://developers.google.com/maps/reporting/gmp-reporting as reference for how to monitor your usage and billing.\n",
    "\n",
    "* Instructions have been included for each segment. You do not have to follow them exactly, but they are included to help you think through the steps."
   ]
  },
  {
   "cell_type": "code",
   "execution_count": 57,
   "metadata": {},
   "outputs": [],
   "source": [
    "# Dependencies and Setup\r\n",
    "import matplotlib.pyplot as plt\r\n",
    "import pandas as pd\r\n",
    "import numpy as np\r\n",
    "import requests\r\n",
    "import gmaps\r\n",
    "import os\r\n",
    "import json\r\n",
    "\r\n",
    "# Import API key\r\n",
    "from api_keys import g_key"
   ]
  },
  {
   "cell_type": "markdown",
   "metadata": {},
   "source": [
    "### Store Part I results into DataFrame\n",
    "* Load the csv exported in Part I to a DataFrame"
   ]
  },
  {
   "cell_type": "code",
   "execution_count": 16,
   "metadata": {},
   "outputs": [
    {
     "data": {
      "text/html": [
       "<div>\n",
       "<style scoped>\n",
       "    .dataframe tbody tr th:only-of-type {\n",
       "        vertical-align: middle;\n",
       "    }\n",
       "\n",
       "    .dataframe tbody tr th {\n",
       "        vertical-align: top;\n",
       "    }\n",
       "\n",
       "    .dataframe thead th {\n",
       "        text-align: right;\n",
       "    }\n",
       "</style>\n",
       "<table border=\"1\" class=\"dataframe\">\n",
       "  <thead>\n",
       "    <tr style=\"text-align: right;\">\n",
       "      <th></th>\n",
       "      <th>City</th>\n",
       "      <th>Lat</th>\n",
       "      <th>Lng</th>\n",
       "      <th>Max Temp</th>\n",
       "      <th>Humidity</th>\n",
       "      <th>Cloudiness</th>\n",
       "      <th>Windspeed</th>\n",
       "      <th>Country</th>\n",
       "      <th>Date</th>\n",
       "    </tr>\n",
       "  </thead>\n",
       "  <tbody>\n",
       "    <tr>\n",
       "      <th>0</th>\n",
       "      <td>Kaitangata</td>\n",
       "      <td>-46.2817</td>\n",
       "      <td>169.8464</td>\n",
       "      <td>9.96</td>\n",
       "      <td>70</td>\n",
       "      <td>6</td>\n",
       "      <td>1.08</td>\n",
       "      <td>NZ</td>\n",
       "      <td>1624237789</td>\n",
       "    </tr>\n",
       "    <tr>\n",
       "      <th>1</th>\n",
       "      <td>Muros</td>\n",
       "      <td>42.7762</td>\n",
       "      <td>-9.0603</td>\n",
       "      <td>15.13</td>\n",
       "      <td>93</td>\n",
       "      <td>52</td>\n",
       "      <td>3.29</td>\n",
       "      <td>ES</td>\n",
       "      <td>1624237789</td>\n",
       "    </tr>\n",
       "    <tr>\n",
       "      <th>2</th>\n",
       "      <td>Hithadhoo</td>\n",
       "      <td>-0.6000</td>\n",
       "      <td>73.0833</td>\n",
       "      <td>28.64</td>\n",
       "      <td>70</td>\n",
       "      <td>100</td>\n",
       "      <td>5.40</td>\n",
       "      <td>MV</td>\n",
       "      <td>1624237789</td>\n",
       "    </tr>\n",
       "    <tr>\n",
       "      <th>3</th>\n",
       "      <td>Pisco</td>\n",
       "      <td>-13.7000</td>\n",
       "      <td>-76.2167</td>\n",
       "      <td>17.23</td>\n",
       "      <td>82</td>\n",
       "      <td>90</td>\n",
       "      <td>5.14</td>\n",
       "      <td>PE</td>\n",
       "      <td>1624237790</td>\n",
       "    </tr>\n",
       "    <tr>\n",
       "      <th>4</th>\n",
       "      <td>Bluff</td>\n",
       "      <td>-46.6000</td>\n",
       "      <td>168.3333</td>\n",
       "      <td>6.90</td>\n",
       "      <td>81</td>\n",
       "      <td>31</td>\n",
       "      <td>2.66</td>\n",
       "      <td>NZ</td>\n",
       "      <td>1624237790</td>\n",
       "    </tr>\n",
       "  </tbody>\n",
       "</table>\n",
       "</div>"
      ],
      "text/plain": [
       "         City      Lat       Lng  Max Temp  Humidity  Cloudiness  Windspeed  \\\n",
       "0  Kaitangata -46.2817  169.8464      9.96        70           6       1.08   \n",
       "1       Muros  42.7762   -9.0603     15.13        93          52       3.29   \n",
       "2   Hithadhoo  -0.6000   73.0833     28.64        70         100       5.40   \n",
       "3       Pisco -13.7000  -76.2167     17.23        82          90       5.14   \n",
       "4       Bluff -46.6000  168.3333      6.90        81          31       2.66   \n",
       "\n",
       "  Country        Date  \n",
       "0      NZ  1624237789  \n",
       "1      ES  1624237789  \n",
       "2      MV  1624237789  \n",
       "3      PE  1624237790  \n",
       "4      NZ  1624237790  "
      ]
     },
     "execution_count": 16,
     "metadata": {},
     "output_type": "execute_result"
    }
   ],
   "source": [
    "path = os.path.join(os.getcwd(),\"temperaturedata.csv\")\r\n",
    "data = pd.read_csv(path)\r\n",
    "data.head()"
   ]
  },
  {
   "cell_type": "markdown",
   "metadata": {},
   "source": [
    "### Humidity Heatmap\n",
    "* Configure gmaps.\n",
    "* Use the Lat and Lng as locations and Humidity as the weight.\n",
    "* Add Heatmap layer to map."
   ]
  },
  {
   "cell_type": "code",
   "execution_count": 11,
   "metadata": {},
   "outputs": [],
   "source": [
    "#configure gmaps\r\n",
    "gmaps.configure(api_key=g_key)\r\n",
    "# store locations\r\n",
    "locations = data[[\"Lat\",\"Lng\"]].astype(float)\r\n",
    "# store weights\r\n",
    "humidity_percent = data[\"Humidity\"].astype(float)"
   ]
  },
  {
   "cell_type": "code",
   "execution_count": 13,
   "metadata": {},
   "outputs": [
    {
     "data": {
      "application/vnd.jupyter.widget-view+json": {
       "model_id": "70c0a73571494ec6af2045167d328e18",
       "version_major": 2,
       "version_minor": 0
      },
      "text/plain": [
       "Figure(layout=FigureLayout(height='420px'))"
      ]
     },
     "metadata": {},
     "output_type": "display_data"
    }
   ],
   "source": [
    "# Create a humidity heatmap layer\r\n",
    "fig = gmaps.figure()\r\n",
    "\r\n",
    "humidity_layer = gmaps.heatmap_layer(locations, weights=humidity_percent, \r\n",
    "                                 dissipating=False, max_intensity=100,\r\n",
    "                                 point_radius = 1)\r\n",
    "\r\n",
    "fig.add_layer(humidity_layer)\r\n",
    "\r\n",
    "fig"
   ]
  },
  {
   "cell_type": "markdown",
   "metadata": {},
   "source": [
    "### Create new DataFrame fitting weather criteria\n",
    "* Narrow down the cities to fit weather conditions.\n",
    "* Drop any rows will null values."
   ]
  },
  {
   "cell_type": "code",
   "execution_count": 49,
   "metadata": {},
   "outputs": [
    {
     "data": {
      "text/html": [
       "<div>\n",
       "<style scoped>\n",
       "    .dataframe tbody tr th:only-of-type {\n",
       "        vertical-align: middle;\n",
       "    }\n",
       "\n",
       "    .dataframe tbody tr th {\n",
       "        vertical-align: top;\n",
       "    }\n",
       "\n",
       "    .dataframe thead th {\n",
       "        text-align: right;\n",
       "    }\n",
       "</style>\n",
       "<table border=\"1\" class=\"dataframe\">\n",
       "  <thead>\n",
       "    <tr style=\"text-align: right;\">\n",
       "      <th></th>\n",
       "      <th>City</th>\n",
       "      <th>Lat</th>\n",
       "      <th>Lng</th>\n",
       "      <th>Max Temp</th>\n",
       "      <th>Humidity</th>\n",
       "      <th>Cloudiness</th>\n",
       "      <th>Windspeed</th>\n",
       "      <th>Country</th>\n",
       "      <th>Date</th>\n",
       "    </tr>\n",
       "  </thead>\n",
       "  <tbody>\n",
       "    <tr>\n",
       "      <th>214</th>\n",
       "      <td>Guadalupe Victoria</td>\n",
       "      <td>32.2869</td>\n",
       "      <td>-115.1050</td>\n",
       "      <td>42.75</td>\n",
       "      <td>23</td>\n",
       "      <td>0</td>\n",
       "      <td>5.56</td>\n",
       "      <td>MX</td>\n",
       "      <td>1624237862</td>\n",
       "    </tr>\n",
       "    <tr>\n",
       "      <th>484</th>\n",
       "      <td>Pahrump</td>\n",
       "      <td>36.2083</td>\n",
       "      <td>-115.9839</td>\n",
       "      <td>43.36</td>\n",
       "      <td>7</td>\n",
       "      <td>0</td>\n",
       "      <td>2.68</td>\n",
       "      <td>US</td>\n",
       "      <td>1624237948</td>\n",
       "    </tr>\n",
       "  </tbody>\n",
       "</table>\n",
       "</div>"
      ],
      "text/plain": [
       "                   City      Lat       Lng  Max Temp  Humidity  Cloudiness  \\\n",
       "214  Guadalupe Victoria  32.2869 -115.1050     42.75        23           0   \n",
       "484             Pahrump  36.2083 -115.9839     43.36         7           0   \n",
       "\n",
       "     Windspeed Country        Date  \n",
       "214       5.56      MX  1624237862  \n",
       "484       2.68      US  1624237948  "
      ]
     },
     "execution_count": 49,
     "metadata": {},
     "output_type": "execute_result"
    }
   ],
   "source": [
    "data2 = data\r\n",
    "# dropping rows with clouds\r\n",
    "data2 = data2.loc[(data2[\"Cloudiness\"] == 0)]\r\n",
    "# Dropping rows with strong winds\r\n",
    "data2 = data2.loc[(data2[\"Windspeed\"] < 10)]\r\n",
    "# Dropping rows with very cold max temps\r\n",
    "data2 = data2.loc[(data2[\"Max Temp\"] < 50)]\r\n",
    "data2 = data2.loc[(data2[\"Max Temp\"] > 40)]\r\n",
    "# displaying data\r\n",
    "data2.head()"
   ]
  },
  {
   "cell_type": "markdown",
   "metadata": {},
   "source": [
    "### Hotel Map\n",
    "* Store into variable named `hotel_df`.\n",
    "* Add a \"Hotel Name\" column to the DataFrame.\n",
    "* Set parameters to search for hotels with 5000 meters.\n",
    "* Hit the Google Places API for each city's coordinates.\n",
    "* Store the first Hotel result into the DataFrame.\n",
    "* Plot markers on top of the heatmap."
   ]
  },
  {
   "cell_type": "code",
   "execution_count": 59,
   "metadata": {},
   "outputs": [],
   "source": [
    "hotel_df = data2\r\n",
    "hotel_df[\"Hotel Name\"] = \"\"\r\n",
    "target_search = \"Hotel\"\r\n",
    "target_type = \"Lodging\"\r\n",
    "target_radius = 5000\r\n",
    "\r\n",
    "params = {\r\n",
    "    'keyword':target_search,\r\n",
    "    'radius':target_radius,\r\n",
    "    'type':target_type,\r\n",
    "    'key':g_key\r\n",
    "}\r\n",
    "\r\n",
    "for index, row in hotel_df.iterrows():\r\n",
    "    latitude = row[\"Lat\"]\r\n",
    "    longitude = row[\"Lng\"]\r\n",
    "\r\n",
    "    params[\"location\"] = f\"{latitude},{longitude}\"\r\n",
    "\r\n",
    "    endpoint = \"https://maps.googleapis.com/maps/api/place/nearbysearch/json\"\r\n",
    "    response = requests.get(endpoint, params=params).json()\r\n",
    "    # print(json.dumps(response, indent=4, sort_keys=True))\r\n",
    "\r\n",
    "    hotels = response[\"results\"]\r\n",
    "    try:\r\n",
    "        hotel_df.loc[index, \"Hotel Name\"] = hotels[0][\"name\"]\r\n",
    "    except (KeyError, IndexError):\r\n",
    "        print(\"No Hotels found\")\r\n"
   ]
  },
  {
   "cell_type": "code",
   "execution_count": 60,
   "metadata": {},
   "outputs": [
    {
     "data": {
      "text/html": [
       "<div>\n",
       "<style scoped>\n",
       "    .dataframe tbody tr th:only-of-type {\n",
       "        vertical-align: middle;\n",
       "    }\n",
       "\n",
       "    .dataframe tbody tr th {\n",
       "        vertical-align: top;\n",
       "    }\n",
       "\n",
       "    .dataframe thead th {\n",
       "        text-align: right;\n",
       "    }\n",
       "</style>\n",
       "<table border=\"1\" class=\"dataframe\">\n",
       "  <thead>\n",
       "    <tr style=\"text-align: right;\">\n",
       "      <th></th>\n",
       "      <th>City</th>\n",
       "      <th>Lat</th>\n",
       "      <th>Lng</th>\n",
       "      <th>Max Temp</th>\n",
       "      <th>Humidity</th>\n",
       "      <th>Cloudiness</th>\n",
       "      <th>Windspeed</th>\n",
       "      <th>Country</th>\n",
       "      <th>Date</th>\n",
       "      <th>Hotel Name</th>\n",
       "    </tr>\n",
       "  </thead>\n",
       "  <tbody>\n",
       "    <tr>\n",
       "      <th>214</th>\n",
       "      <td>Guadalupe Victoria</td>\n",
       "      <td>32.2869</td>\n",
       "      <td>-115.1050</td>\n",
       "      <td>42.75</td>\n",
       "      <td>23</td>\n",
       "      <td>0</td>\n",
       "      <td>5.56</td>\n",
       "      <td>MX</td>\n",
       "      <td>1624237862</td>\n",
       "      <td>Hotel Dial</td>\n",
       "    </tr>\n",
       "    <tr>\n",
       "      <th>484</th>\n",
       "      <td>Pahrump</td>\n",
       "      <td>36.2083</td>\n",
       "      <td>-115.9839</td>\n",
       "      <td>43.36</td>\n",
       "      <td>7</td>\n",
       "      <td>0</td>\n",
       "      <td>2.68</td>\n",
       "      <td>US</td>\n",
       "      <td>1624237948</td>\n",
       "      <td>Holiday Inn Express &amp; Suites Pahrump, an IHG H...</td>\n",
       "    </tr>\n",
       "  </tbody>\n",
       "</table>\n",
       "</div>"
      ],
      "text/plain": [
       "                   City      Lat       Lng  Max Temp  Humidity  Cloudiness  \\\n",
       "214  Guadalupe Victoria  32.2869 -115.1050     42.75        23           0   \n",
       "484             Pahrump  36.2083 -115.9839     43.36         7           0   \n",
       "\n",
       "     Windspeed Country        Date  \\\n",
       "214       5.56      MX  1624237862   \n",
       "484       2.68      US  1624237948   \n",
       "\n",
       "                                            Hotel Name  \n",
       "214                                         Hotel Dial  \n",
       "484  Holiday Inn Express & Suites Pahrump, an IHG H...  "
      ]
     },
     "execution_count": 60,
     "metadata": {},
     "output_type": "execute_result"
    }
   ],
   "source": [
    "hotel_df"
   ]
  },
  {
   "cell_type": "code",
   "execution_count": 67,
   "metadata": {},
   "outputs": [],
   "source": [
    "# NOTE: Do not change any of the code in this cell\r\n",
    "\r\n",
    "# Using the template add the hotel marks to the heatmap\r\n",
    "info_box_template = \"\"\"\r\n",
    "<dl>\r\n",
    "<dt>Name</dt><dd>{Hotel Name}</dd>\r\n",
    "<dt>City</dt><dd>{City}</dd>\r\n",
    "<dt>Country</dt><dd>{Country}</dd>\r\n",
    "</dl>\r\n",
    "\"\"\"\r\n",
    "# Store the DataFrame Row\r\n",
    "# NOTE: be sure to update with your DataFrame name\r\n",
    "hotel_info = [info_box_template.format(**row) for index, row in hotel_df.iterrows()]\r\n",
    "locations = hotel_df[[\"Lat\", \"Lng\"]]\r\n",
    "markers = gmaps.marker_layer(locations)"
   ]
  },
  {
   "cell_type": "code",
   "execution_count": 68,
   "metadata": {},
   "outputs": [
    {
     "data": {
      "application/vnd.jupyter.widget-view+json": {
       "model_id": "728623b253f34893aa7e42f18fc353ce",
       "version_major": 2,
       "version_minor": 0
      },
      "text/plain": [
       "Figure(layout=FigureLayout(height='420px'))"
      ]
     },
     "metadata": {},
     "output_type": "display_data"
    }
   ],
   "source": [
    "# Add marker layer ontop of heat map\r\n",
    "hotel_layer = gmaps.symbol_layer(\r\n",
    "    locations, fill_color='rgba(0, 150, 0, 0.4)',\r\n",
    "    stroke_color='rgba(0, 0, 150, 0.4)', scale=2,\r\n",
    "    info_box_content=hotel_info\r\n",
    ")\r\n",
    "\r\n",
    "\r\n",
    "\r\n",
    "# Display figure\r\n",
    "fig = gmaps.figure()\r\n",
    "fig.add_layer(hotel_layer)\r\n",
    "fig.add_layer(markers)\r\n",
    "\r\n",
    "fig"
   ]
  },
  {
   "cell_type": "code",
   "execution_count": null,
   "metadata": {},
   "outputs": [],
   "source": []
  }
 ],
 "metadata": {
  "kernelspec": {
   "display_name": "pydev",
   "language": "python",
   "name": "pydev"
  },
  "language_info": {
   "codemirror_mode": {
    "name": "ipython",
    "version": 3
   },
   "file_extension": ".py",
   "mimetype": "text/x-python",
   "name": "python",
   "nbconvert_exporter": "python",
   "pygments_lexer": "ipython3",
   "version": "3.7.7"
  },
  "latex_envs": {
   "LaTeX_envs_menu_present": true,
   "autoclose": false,
   "autocomplete": true,
   "bibliofile": "biblio.bib",
   "cite_by": "apalike",
   "current_citInitial": 1,
   "eqLabelWithNumbers": true,
   "eqNumInitial": 1,
   "hotkeys": {
    "equation": "Ctrl-E",
    "itemize": "Ctrl-I"
   },
   "labels_anchors": false,
   "latex_user_defs": false,
   "report_style_numbering": false,
   "user_envs_cfg": false
  }
 },
 "nbformat": 4,
 "nbformat_minor": 4
}